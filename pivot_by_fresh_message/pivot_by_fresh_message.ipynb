{
 "cells": [
  {
   "cell_type": "code",
   "execution_count": 1,
   "metadata": {},
   "outputs": [],
   "source": [
    "import math\n",
    "import random\n",
    "import numpy as np\n",
    "import matplotlib.pyplot as plt\n",
    "import matplotlib.animation as animation"
   ]
  },
  {
   "cell_type": "code",
   "execution_count": 56,
   "metadata": {},
   "outputs": [],
   "source": [
    "# Consensus between two colors (\"RED\" and \"BLUE\")\n",
    "# Adversary try to pivot from RED (initial winner) to BLUE\n",
    "\n",
    "class Simulator:\n",
    "    \n",
    "    def __init__(self, validator_num, adversary_num, slots_per_epoch, init_score):\n",
    "        assert validator_num % slots_per_epoch == 0        \n",
    "        self.validator_num = validator_num\n",
    "        self.adversary_num = adversary_num\n",
    "        self.slots_per_epoch = slots_per_epoch\n",
    "\n",
    "        self.validator_id_list = list(range(self.validator_num))\n",
    "        self.adversary_ids = set(self.validator_id_list[: self.adversary_num])\n",
    "        self.honest_ids = set(self.validator_id_list[self.adversary_num:])\n",
    "        assert self.validator_num == len(self.honest_ids) + len(self.adversary_ids)\n",
    "\n",
    "        # Initial score\n",
    "        assert init_score[1][0] + init_score[1][1] <= adversary_num\n",
    "        # Conditions on the result of the previous epoch\n",
    "        assert init_score[0][0] * 2 < self.validator_num  # Non-convergence\n",
    "        assert 3 * (init_score[0][0] + init_score[1][0]) < 2 * self.validator_num  # Non-justification\n",
    "        assert 3 * (init_score[0][0] + self.adversary_num - init_score[1][1]) >= 2 * self.validator_num  # Justifiable\n",
    "        \n",
    "        init_red_honest_ids = set(random.sample(self.honest_ids, init_score[0][0])) # Honest validators voting for RED\n",
    "        init_red_adversary_ids = set(random.sample(self.adversary_ids, init_score[1][0])) # Adversarial validators voting for RED\n",
    "        init_blue_adversary_ids = set(random.sample(self.adversary_ids - init_red_adversary_ids, init_score[1][1])) # Adversarial validators voting for BLUE\n",
    "\n",
    "        \n",
    "        # Latest votes for two colors\n",
    "        # Index: 0 -> RED, 1 -> BLUE\n",
    "        self.votes = [{\"honest_ids\": init_red_honest_ids, \"adversary_ids\": init_red_adversary_ids},\n",
    "                      {\"honest_ids\": self.honest_ids - init_red_honest_ids, \"adversary_ids\": init_blue_adversary_ids}]\n",
    "                                     \n",
    "        # Slot\n",
    "        self.slot = 0\n",
    "        self.voters_per_slot = self.validator_num // self.slots_per_epoch\n",
    "        self.slot_allocation = self.validator_id_list\n",
    "#         self.slot_allocation = self.validator_id_list[:100] + self.validator_id_list[100:][::-1]\n",
    "        random.shuffle(self.slot_allocation)\n",
    "\n",
    "        # Log for visualization\n",
    "        # Index: slot -> honest/adversary -> red/blue\n",
    "        self.scores = np.zeros(self.slots_per_epoch * 2 * 2).reshape(self.slots_per_epoch, 2, 2)\n",
    "\n",
    "        \n",
    "    def get_red_score(self):\n",
    "        return len(self.votes[0][\"honest_ids\"]) + len(self.votes[0][\"adversary_ids\"])\n",
    "\n",
    "    def get_blue_score(self):\n",
    "        return len(self.votes[1][\"honest_ids\"]) + len(self.votes[1][\"adversary_ids\"])\n",
    "\n",
    "    \n",
    "    def get_winner(self):\n",
    "        # If there is a tie, RED wins (worse for the adversary)\n",
    "        return 0 if self.get_red_score() >= self.get_blue_score() else 1\n",
    "\n",
    "    \n",
    "    def get_current_voters(self):\n",
    "        offset = int(self.voters_per_slot * (self.slot % self.slots_per_epoch))\n",
    "        return set(self.slot_allocation[offset: offset + self.voters_per_slot])\n",
    "\n",
    "    def batch_vote(self, target, validator_ids):\n",
    "        non_target = 1 - target\n",
    "        self.votes[non_target][\"honest_ids\"] -= validator_ids\n",
    "        self.votes[non_target][\"adversary_ids\"] -= validator_ids\n",
    "        self.votes[target][\"honest_ids\"] |= validator_ids & self.honest_ids\n",
    "        self.votes[target][\"adversary_ids\"] |= validator_ids & self.adversary_ids\n",
    "        assert self.votes[non_target][\"honest_ids\"] | self.votes[target][\"honest_ids\"] == self.honest_ids\n",
    "        assert self.votes[non_target][\"adversary_ids\"] | self.votes[target][\"adversary_ids\"] <= self.adversary_ids\n",
    "\n",
    "        # Log for visualization\n",
    "        self.scores[self.slot][0][0] = len(self.votes[0][\"honest_ids\"])\n",
    "        self.scores[self.slot][0][1] = len(self.votes[1][\"honest_ids\"])\n",
    "        self.scores[self.slot][1][0] = len(self.votes[0][\"adversary_ids\"])\n",
    "        self.scores[self.slot][1][1] = len(self.votes[1][\"adversary_ids\"])\n",
    "        \n",
    "    \n",
    "    def process_slot(self):\n",
    "        winner = self.get_winner()\n",
    "        self.batch_vote(winner, self.get_current_voters() & self.honest_ids)\n",
    "        self.batch_vote(1, self.get_current_voters() & self.adversary_ids)\n",
    "        self.slot += 1\n",
    "\n",
    "\n",
    "    def run(self):\n",
    "        while self.slot < self.slots_per_epoch:\n",
    "            self.process_slot()\n",
    "                \n",
    "\n",
    "def calc_prob_of_pivot(trial_num, validator_num, adversary_num, slots_per_epoch, init_score):\n",
    "    count = 0\n",
    "    for i in range(trial_num):\n",
    "        s = Simulator(validator_num, adversary_num, slots_per_epoch, init_score)\n",
    "        s.run()    \n",
    "        count += 1 if s.get_winner() == 1 else 0\n",
    "    return count / trial_num"
   ]
  },
  {
   "cell_type": "code",
   "execution_count": 58,
   "metadata": {},
   "outputs": [
    {
     "name": "stdout",
     "output_type": "stream",
     "text": [
      "0.0\n"
     ]
    }
   ],
   "source": [
    "# The luckiest case for the adversary\n",
    "slots_per_epoch = 100\n",
    "f = 3333\n",
    "validator_num = f * 3 + 1  # 10000\n",
    "adversary_num = f\n",
    "\n",
    "init_score = [[f + 1, f], [0, 0]]\n",
    "\n",
    "trial_num = 10\n",
    "print(calc_prob_of_pivot(trial_num, validator_num, adversary_num, slots_per_epoch, init_score))"
   ]
  },
  {
   "cell_type": "markdown",
   "metadata": {},
   "source": [
    "## Observations\n",
    "- A switch of honest validator from BLUE -> RED reduce 2 of the score gap\n",
    "  - For pivot, adversary must be elected \"twice of the switching honest votes + gap\"\n",
    "    - Therefore, the adversary loses on average per slot\n",
    "- The larger the committee size is, the more mean regressive \n",
    "- Once pivot, all of the honest validators vote for BLUE"
   ]
  },
  {
   "cell_type": "code",
   "execution_count": 59,
   "metadata": {},
   "outputs": [
    {
     "name": "stdout",
     "output_type": "stream",
     "text": [
      "0.6\n"
     ]
    }
   ],
   "source": [
    "# 1 voter per slot\n",
    "slots_per_epoch = 10000\n",
    "f = 3333\n",
    "validator_num = f * 3 + 1  # 10000\n",
    "adversary_num = f\n",
    "\n",
    "init_score = [[f + 1, f], [0, 0]]\n",
    "\n",
    "trial_num = 10\n",
    "print(calc_prob_of_pivot(trial_num, validator_num, adversary_num, slots_per_epoch, init_score))"
   ]
  },
  {
   "cell_type": "code",
   "execution_count": 64,
   "metadata": {},
   "outputs": [
    {
     "data": {
      "image/png": "[encoded data removed]",
      "text/plain": [
       "<Figure size 432x288 with 1 Axes>"
      ]
     },
     "metadata": {
      "needs_background": "light"
     },
     "output_type": "display_data"
    }
   ],
   "source": [
    "# slots_per_epoch = 64\n",
    "# validator_num = 131072  # Minimum of ETH2.0\n",
    "# adversary_num = 43690  # 43690 / 131072 = 0.3333282471...\n",
    "\n",
    "# The luckiest case for the adversary\n",
    "slots_per_epoch = 100\n",
    "f = 3333\n",
    "validator_num = f * 3 + 1  # 10000\n",
    "adversary_num = f\n",
    "\n",
    "init_score = [[f + 1, f], [0, 0]]\n",
    "\n",
    "\n",
    "s = Simulator(validator_num, adversary_num, slots_per_epoch, init_score)\n",
    "s.run()    \n",
    "\n",
    "fig = plt.figure()\n",
    "\n",
    "def animate(i):\n",
    "    epoch = int(i // s.slots_per_epoch)\n",
    "    plt.cla() \n",
    "    plt.ylim(0, int(s.validator_num * 1.2))\n",
    "    plt.title('slot: ' + str(i))\n",
    "    p1 = plt.bar([\"RED\", \"BLUE\"], s.scores[i][0], color=\"green\")\n",
    "    p2 = plt.bar([\"RED\", \"BLUE\"], s.scores[i][1], bottom=s.scores[i][0], color=\"orange\")\n",
    "    plt.legend((p1[0], p2[0]), (\"Honest votes\", \"Adversary votes\"))\n",
    "    \n",
    "ani = animation.FuncAnimation(fig, animate, frames=len(s.scores), interval=20)\n",
    "ani.save('pivot.gif', writer='imagemagick')"
   ]
  },
  {
   "cell_type": "code",
   "execution_count": 63,
   "metadata": {},
   "outputs": [
    {
     "data": {
      "image/png": "[encoded data removed]",
      "text/plain": [
       "<Figure size 432x288 with 1 Axes>"
      ]
     },
     "metadata": {
      "needs_background": "light"
     },
     "output_type": "display_data"
    }
   ],
   "source": [
    "# Animate 1 voter per slot case\n",
    "slots_per_epoch = 10000\n",
    "f = 3333\n",
    "validator_num = f * 3 + 1  # 10000\n",
    "adversary_num = f\n",
    "\n",
    "init_score = [[f + 1, f], [0, 0]]\n",
    "\n",
    "\n",
    "while True:\n",
    "    s = Simulator(validator_num, adversary_num, slots_per_epoch, init_score)\n",
    "    s.run()    \n",
    "    if s.get_winner() == 0:\n",
    "        continue\n",
    "\n",
    "    fig = plt.figure()\n",
    "\n",
    "    def animate(i):\n",
    "        epoch = int(i // s.slots_per_epoch)\n",
    "        plt.cla() \n",
    "        plt.ylim(0, int(s.validator_num * 1.2))\n",
    "        plt.title('slot: ' + str(i * 100))\n",
    "        p1 = plt.bar([\"RED\", \"BLUE\"], s.scores[i * 100][0], color=\"green\")\n",
    "        p2 = plt.bar([\"RED\", \"BLUE\"], s.scores[i * 100][1], bottom=s.scores[i * 100][0], color=\"orange\")\n",
    "        plt.legend((p1[0], p2[0]), (\"Honest votes\", \"Adversary votes\"))\n",
    "\n",
    "    ani = animation.FuncAnimation(fig, animate, frames=len(s.scores) // 100, interval=20)\n",
    "    ani.save('1-voter-per-epoch-success.gif', writer='imagemagick')\n",
    "    break"
   ]
  }
 ],
 "metadata": {
  "kernelspec": {
   "display_name": "Python 3",
   "language": "python",
   "name": "python3"
  },
  "language_info": {
   "codemirror_mode": {
    "name": "ipython",
    "version": 3
   },
   "file_extension": ".py",
   "mimetype": "text/x-python",
   "name": "python",
   "nbconvert_exporter": "python",
   "pygments_lexer": "ipython3",
   "version": "3.7.4"
  }
 },
 "nbformat": 4,
 "nbformat_minor": 2
}
