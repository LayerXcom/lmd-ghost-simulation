{
 "cells": [
  {
   "cell_type": "code",
   "execution_count": 1,
   "metadata": {},
   "outputs": [],
   "source": [
    "import math\n",
    "import random\n",
    "import numpy as np\n",
    "import matplotlib.pyplot as plt\n",
    "import matplotlib.animation as animation"
   ]
  },
  {
   "cell_type": "code",
   "execution_count": 2,
   "metadata": {},
   "outputs": [],
   "source": [
    "# Consensus between two colors (\"RED\" and \"BLUE\")\n",
    "\n",
    "class Simulator:\n",
    "    END_EPOCH = 100\n",
    "    \n",
    "    def __init__(self, validator_num, slots_per_epoch, fault_tolerance, init_red_honest_ratio, init_red_adversary_ratio):\n",
    "        self.validator_num = validator_num\n",
    "        self.slots_per_epoch = slots_per_epoch\n",
    "        self.fault_tolerance = fault_tolerance\n",
    "\n",
    "        self.validator_id_list = list(range(self.validator_num))\n",
    "        self.adversary_num = math.ceil(self.validator_num * self.fault_tolerance) - 1\n",
    "        self.adversary_ids = set(self.validator_id_list[: self.adversary_num])\n",
    "        self.honest_ids = set(self.validator_id_list[self.adversary_num:])\n",
    "        assert self.validator_num == len(self.honest_ids) + len(self.adversary_ids)\n",
    "\n",
    "        # Initial score of RED (RED is the initial winner)\n",
    "        init_red_honest_ids = set(random.sample(self.honest_ids, math.ceil(self.validator_num * init_red_honest_ratio))) # Honest validators voting for RED\n",
    "        init_red_adversary_ids = set(random.sample(self.adversary_ids, math.ceil(self.validator_num * init_red_adversary_ratio))) # Adversarial validators voting for RED\n",
    "\n",
    "        # Latest votes for two colors\n",
    "        # Index: 0 -> RED, 1 -> BLUE\n",
    "        self.votes = [{\"honest_ids\": init_red_honest_ids, \"adversary_ids\": init_red_adversary_ids},\n",
    "                      {\"honest_ids\": self.honest_ids - init_red_honest_ids, \"adversary_ids\": self.adversary_ids - init_red_adversary_ids}]\n",
    "                                     \n",
    "        # Slot, epoch\n",
    "        self.slot = 0\n",
    "        self.epoch = 0\n",
    "        self.voters_per_slot = self.validator_num // self.slots_per_epoch\n",
    "        self.slot_allocation = self.validator_id_list\n",
    "        \n",
    "        # Log for visualization\n",
    "        self.pivots = np.zeros(Simulator.END_EPOCH)  # Number of pivots in the epoch\n",
    "        self.scores = np.zeros(int(Simulator.END_EPOCH * self.slots_per_epoch * 2 * 2)).reshape(int(Simulator.END_EPOCH * self.slots_per_epoch), 2, 2)  # Index: slot * epoch -> honest/adversary -> red/blue\n",
    "        \n",
    "    def get_red_score(self):\n",
    "        return len(self.votes[0][\"honest_ids\"]) + len(self.votes[0][\"adversary_ids\"])\n",
    "\n",
    "    def get_blue_score(self):\n",
    "        return len(self.votes[1][\"honest_ids\"]) + len(self.votes[1][\"adversary_ids\"])\n",
    "\n",
    "    \n",
    "    def get_winner(self):\n",
    "        if self.get_red_score() > self.get_blue_score():\n",
    "            return 0\n",
    "        elif self.get_red_score() == self.get_blue_score() and self.votes[0][\"honest_ids\"] >= self.votes[1][\"honest_ids\"]:\n",
    "            # If there is a tie, adversasy assumes the worst tie-breaking\n",
    "            return 0\n",
    "        return 1\n",
    "\n",
    "    \n",
    "    def get_current_voters(self):\n",
    "        offset = int(self.voters_per_slot * (self.slot % self.slots_per_epoch))\n",
    "        return set(self.slot_allocation[offset: offset + self.voters_per_slot])\n",
    "\n",
    "    def batch_vote(self, target, validator_ids):\n",
    "        non_target = (target + 1) % 2\n",
    "        self.votes[non_target][\"honest_ids\"] -= validator_ids\n",
    "        self.votes[non_target][\"adversary_ids\"] -= validator_ids\n",
    "        self.votes[target][\"honest_ids\"] |= validator_ids & self.honest_ids\n",
    "        self.votes[target][\"adversary_ids\"] |= validator_ids & self.adversary_ids\n",
    "        assert self.votes[non_target][\"honest_ids\"] | self.votes[target][\"honest_ids\"] == self.honest_ids\n",
    "        assert self.votes[non_target][\"adversary_ids\"] | self.votes[target][\"adversary_ids\"] == self.adversary_ids\n",
    "        self.scores[self.slot][0][0] = len(self.votes[0][\"honest_ids\"])\n",
    "        self.scores[self.slot][0][1] = len(self.votes[1][\"honest_ids\"])\n",
    "        self.scores[self.slot][1][0] = len(self.votes[0][\"adversary_ids\"])\n",
    "        self.scores[self.slot][1][1] = len(self.votes[1][\"adversary_ids\"])\n",
    "        \n",
    "    \n",
    "    def decoy_flip_flop(self):\n",
    "        winner = self.get_winner()\n",
    "        # Adversary calculates the maximum increase of the honest votes for the winner\n",
    "        # NOTE: This can be upper bounded by the number of validators who havn't voted yet and whose latest votes are not for the winner\n",
    "        honest_vote_num = self.voters_per_slot - len(self.get_current_voters() & self.adversary_ids)\n",
    "        # Pivoting rule\n",
    "        if len(self.votes[winner][\"honest_ids\"]) + honest_vote_num > math.ceil(self.validator_num / 2) - 1:\n",
    "            new_winner = (winner + 1) % 2\n",
    "            self.batch_vote(new_winner, self.adversary_ids)\n",
    "            assert self.get_winner() != winner, \"Pivoting failed!\"\n",
    "            # Save the log\n",
    "            self.pivots[self.epoch] += 1\n",
    "\n",
    "    def process_slot(self):\n",
    "        # Before this slot starts, adversary make pivot in some cases\n",
    "        self.decoy_flip_flop()\n",
    "        winner = self.get_winner()\n",
    "        self.batch_vote(winner, self.get_current_voters() & self.honest_ids)\n",
    "        self.slot += 1\n",
    "\n",
    "    def process_epoch(self):\n",
    "        random.shuffle(self.slot_allocation)\n",
    "        self.epoch += 1\n",
    "        \n",
    "    def run(self):\n",
    "        random.shuffle(self.slot_allocation)\n",
    "        while self.epoch < Simulator.END_EPOCH:\n",
    "            self.process_slot()\n",
    "            if self.slot % self.slots_per_epoch == 0:\n",
    "                self.process_epoch()\n",
    "                "
   ]
  },
  {
   "cell_type": "code",
   "execution_count": 3,
   "metadata": {
    "scrolled": true
   },
   "outputs": [
    {
     "data": {
      "text/plain": [
       "<matplotlib.collections.PathCollection at 0x11703ec90>"
      ]
     },
     "execution_count": 3,
     "metadata": {},
     "output_type": "execute_result"
    },
    {
     "data": {
      "image/png": "[encoded data removed]",
      "text/plain": [
       "<Figure size 432x288 with 1 Axes>"
      ]
     },
     "metadata": {
      "needs_background": "light"
     },
     "output_type": "display_data"
    }
   ],
   "source": [
    "# Parameters\n",
    "SLOTS_PER_EPOCH = 64\n",
    "VALIDATOR_NUM = 131072  # Minimum of ETH2.0\n",
    "assert VALIDATOR_NUM % SLOTS_PER_EPOCH == 0\n",
    "\n",
    "# Unlucky initial state for adversary\n",
    "INIT_RED_HONEST_RATIO = 49 / 100  # Must be < 1/2\n",
    "INIT_RED_ADVERSARY_RATIO = 2 / 100\n",
    "assert INIT_RED_HONEST_RATIO + INIT_RED_ADVERSARY_RATIO > 1/2\n",
    "\n",
    "\n",
    "TRIAL_NUM = 92\n",
    "data_x = np.zeros(TRIAL_NUM)\n",
    "data_y = np.zeros(TRIAL_NUM)\n",
    "\n",
    "for i in range(TRIAL_NUM):\n",
    "    FAULT_TOLERANCE = 1 / 3 * (i + 7) / 100\n",
    "    assert INIT_RED_ADVERSARY_RATIO < FAULT_TOLERANCE\n",
    "    s = Simulator(VALIDATOR_NUM, SLOTS_PER_EPOCH, FAULT_TOLERANCE, INIT_RED_HONEST_RATIO, INIT_RED_ADVERSARY_RATIO)\n",
    "    s.run()  \n",
    "    data_x[i] = FAULT_TOLERANCE\n",
    "    data_y[i] = (np.sum(s.pivots) - s.epoch) / s.epoch\n"
   ]
  },
  {
   "cell_type": "code",
   "execution_count": 8,
   "metadata": {},
   "outputs": [
    {
     "data": {
      "text/plain": [
       "<matplotlib.collections.PathCollection at 0x11dff7b10>"
      ]
     },
     "execution_count": 8,
     "metadata": {},
     "output_type": "execute_result"
    },
    {
     "data": {
      "image/png": "[encoded data removed]",
      "text/plain": [
       "<Figure size 432x288 with 1 Axes>"
      ]
     },
     "metadata": {
      "needs_background": "light"
     },
     "output_type": "display_data"
    }
   ],
   "source": [
    "%matplotlib inline\n",
    "plt.title('Adversary ratio and average spending of saving per epoch')\n",
    "plt.xlabel('Adversary ratio')\n",
    "plt.ylabel('Spending of saving per epoch')\n",
    "\n",
    "plt.scatter(data_x, data_y)"
   ]
  },
  {
   "cell_type": "code",
   "execution_count": 7,
   "metadata": {},
   "outputs": [
    {
     "data": {
      "text/plain": [
       "<matplotlib.collections.PathCollection at 0x11fb33cd0>"
      ]
     },
     "execution_count": 7,
     "metadata": {},
     "output_type": "execute_result"
    },
    {
     "data": {
      "image/png": "[encoded data removed]",
      "text/plain": [
       "<Figure size 432x288 with 1 Axes>"
      ]
     },
     "metadata": {
      "needs_background": "light"
     },
     "output_type": "display_data"
    }
   ],
   "source": [
    "plt.title('Adversary ration and average spending of saving per epoch')\n",
    "plt.xlabel('Adversary ratio')\n",
    "plt.ylabel('Spending of saving per epoch')\n",
    "\n",
    "plt.scatter(data_x[70:], data_y[70:])"
   ]
  },
  {
   "cell_type": "code",
   "execution_count": 9,
   "metadata": {},
   "outputs": [
    {
     "data": {
      "text/plain": [
       "array([0.55, 0.52, 0.5 , 0.48, 0.45, 0.43, 0.41, 0.39, 0.37, 0.34, 0.33,\n",
       "       0.31, 0.29, 0.27, 0.26, 0.24, 0.22, 0.2 , 0.19, 0.17, 0.15, 0.13])"
      ]
     },
     "execution_count": 9,
     "metadata": {},
     "output_type": "execute_result"
    }
   ],
   "source": [
    "data_y[70:]"
   ]
  },
  {
   "cell_type": "code",
   "execution_count": null,
   "metadata": {},
   "outputs": [],
   "source": []
  }
 ],
 "metadata": {
  "anaconda-cloud": {},
  "kernelspec": {
   "display_name": "Python 3",
   "language": "python",
   "name": "python3"
  },
  "language_info": {
   "codemirror_mode": {
    "name": "ipython",
    "version": 3
   },
   "file_extension": ".py",
   "mimetype": "text/x-python",
   "name": "python",
   "nbconvert_exporter": "python",
   "pygments_lexer": "ipython3",
   "version": "3.7.4"
  }
 },
 "nbformat": 4,
 "nbformat_minor": 2
}
